{
 "cells": [
  {
   "cell_type": "code",
   "execution_count": 1,
   "metadata": {},
   "outputs": [],
   "source": [
    "import numpy as np\n",
    "import ICESiss as SS\n",
    "import ICESins as NS\n",
    "from sklearn import metrics\n",
    "import processing_tools as pt\n",
    "import similarity_generator as sg\n"
   ]
  },
  {
   "cell_type": "markdown",
   "metadata": {},
   "source": [
    "### Load dataset"
   ]
  },
  {
   "cell_type": "code",
   "execution_count": 2,
   "metadata": {},
   "outputs": [
    {
     "name": "stdout",
     "output_type": "stream",
     "text": [
      "(46, 46) (46, 5) (46,)\n"
     ]
    }
   ],
   "source": [
    "p = np.loadtxt(\"../data/COSN/P.npy\")\n",
    "y = np.loadtxt(\"../data/COSN/Y.npy\")\n",
    "gt = np.load(\"../data/COSN/ground_truth.npy\")\n",
    "\n",
    "print(p.shape, y.shape, gt.shape)"
   ]
  },
  {
   "cell_type": "markdown",
   "metadata": {},
   "source": [
    "### preprocessing the data"
   ]
  },
  {
   "cell_type": "code",
   "execution_count": 3,
   "metadata": {},
   "outputs": [],
   "source": [
    "p_, _, _, p_u, _, _, p_m, _, _, p_l, _, _ = pt.preprocess_p(p=p)\n",
    "\n",
    "\n",
    "y_, _, y_z, _, y_rng, _, = pt.preprocess_y(y_in=y, data_type='Q')"
   ]
  },
  {
   "cell_type": "code",
   "execution_count": 4,
   "metadata": {},
   "outputs": [
    {
     "data": {
      "text/plain": [
       "((46, 46), (46, 5))"
      ]
     },
     "execution_count": 4,
     "metadata": {},
     "output_type": "execute_result"
    }
   ],
   "source": [
    "p_u.shape, y_z.shape"
   ]
  },
  {
   "cell_type": "markdown",
   "metadata": {},
   "source": [
    "## Applying ICESi\n",
    "\n",
    "### ICESiss"
   ]
  },
  {
   "cell_type": "code",
   "execution_count": 12,
   "metadata": {},
   "outputs": [
    {
     "data": {
      "text/plain": [
       "9"
      ]
     },
     "execution_count": 12,
     "metadata": {},
     "output_type": "execute_result"
    }
   ],
   "source": [
    "np.random.seed(21)  # different seed different clustering results as discuss in the paper\n",
    "seed = np.random.randint(y_z.shape[0])\n",
    "seed"
   ]
  },
  {
   "cell_type": "markdown",
   "metadata": {},
   "source": [
    "### Converting feature data to similarity data\n",
    "\n",
    "- s_inn >> similarity obtained by inner product (which is used in the paper)\n",
    "- s_aff >> similarity obtained by affinity or Gaussian Kernel "
   ]
  },
  {
   "cell_type": "code",
   "execution_count": 13,
   "metadata": {},
   "outputs": [],
   "source": [
    "s_inn, s_aff = sg.generate_similarities(y=y_z)"
   ]
  },
  {
   "cell_type": "code",
   "execution_count": 14,
   "metadata": {},
   "outputs": [],
   "source": [
    "ICESiss_results_ = SS.run_ANomalous_Cluster(pivot=seed, s=s_inn, p=p_u, rho=1, xi=1,)"
   ]
  },
  {
   "cell_type": "markdown",
   "metadata": {},
   "source": [
    "### ICESins"
   ]
  },
  {
   "cell_type": "code",
   "execution_count": 15,
   "metadata": {},
   "outputs": [],
   "source": [
    "ICESins_results_ = NS.run_ANomalous_Cluster(pivot=seed, s=s_inn, p=p_u, rho=1, xi=1,)"
   ]
  },
  {
   "cell_type": "markdown",
   "metadata": {},
   "source": [
    "- The clustering results are dict of dict. \n",
    "To apply ARI from SKlearn, we need a 1-D array/list.\n",
    "Thus we convert them by calling function flat_cluster_results."
   ]
  },
  {
   "cell_type": "code",
   "execution_count": 16,
   "metadata": {},
   "outputs": [],
   "source": [
    "ICESiss_results, _ = pt.flat_cluster_results(ICESiss_results_)"
   ]
  },
  {
   "cell_type": "code",
   "execution_count": 17,
   "metadata": {},
   "outputs": [],
   "source": [
    "ICESins_results, _ = pt.flat_cluster_results(ICESins_results_)"
   ]
  },
  {
   "cell_type": "code",
   "execution_count": null,
   "metadata": {},
   "outputs": [],
   "source": []
  },
  {
   "cell_type": "code",
   "execution_count": 18,
   "metadata": {},
   "outputs": [
    {
     "name": "stdout",
     "output_type": "stream",
     "text": [
      "ICESiss ARI: 0.9130471309753844 \n",
      "ICESins ARI: 0.6226053460736558\n"
     ]
    }
   ],
   "source": [
    "print(\"ICESiss ARI:\", metrics.adjusted_rand_score(gt, ICESiss_results), \"\\n\"\n",
    "      \"ICESins ARI:\", metrics.adjusted_rand_score(gt, ICESins_results),)"
   ]
  },
  {
   "cell_type": "markdown",
   "metadata": {},
   "source": [
    "Note: Since the quality of recovered clustering results depends on the initialization point, thus in the paper, we reported the average and standard deviation of the results over 10 different initialization.\n",
    "And here, we merely demonstrate a sample call for the proposed algorithms. "
   ]
  },
  {
   "cell_type": "code",
   "execution_count": null,
   "metadata": {},
   "outputs": [],
   "source": []
  }
 ],
 "metadata": {
  "kernelspec": {
   "display_name": "tfGvenv",
   "language": "python",
   "name": "tfgvenv"
  },
  "language_info": {
   "codemirror_mode": {
    "name": "ipython",
    "version": 3
   },
   "file_extension": ".py",
   "mimetype": "text/x-python",
   "name": "python",
   "nbconvert_exporter": "python",
   "pygments_lexer": "ipython3",
   "version": "3.7.10"
  }
 },
 "nbformat": 4,
 "nbformat_minor": 5
}
